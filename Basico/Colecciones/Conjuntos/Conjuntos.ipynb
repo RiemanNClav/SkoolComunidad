{
 "cells": [
  {
   "cell_type": "markdown",
   "metadata": {},
   "source": [
    "# 98. INTRODUCCION A CONJUNTOS\n",
    "\n",
    "Ahora, es el turno de los conjuntos. Éstos son una estructura sin orden que no admiten múltiples ocurrencias de un mismo elemento. Pueden ser definidos a partir de una lista con la función set(), o bien, los elementos del conjunto pueden ir entre llaves, {}, y estar separados por comas.\n",
    "\n",
    "Los conjuntos son:\n",
    "\n",
    "hetereogéneos: los elementos pueden ser de distinto tipo en un mismo conjunto\n",
    "no mutables: los elementos no pueden ser modifcados una vez el conjunto ha sido creado\n",
    "Los conjuntos pueden construirse con la función set() o directamente entre llaves, {}."
   ]
  },
  {
   "cell_type": "code",
   "execution_count": 5,
   "metadata": {},
   "outputs": [
    {
     "name": "stdout",
     "output_type": "stream",
     "text": [
      "{1, 2, 3, 4, 5}\n"
     ]
    }
   ],
   "source": [
    "set1 = {1,2,3,4,5}\n",
    "print(set1)"
   ]
  },
  {
   "cell_type": "code",
   "execution_count": 6,
   "metadata": {},
   "outputs": [
    {
     "data": {
      "text/plain": [
       "set"
      ]
     },
     "execution_count": 6,
     "metadata": {},
     "output_type": "execute_result"
    }
   ],
   "source": [
    "type(set1)"
   ]
  },
  {
   "cell_type": "code",
   "execution_count": 7,
   "metadata": {},
   "outputs": [
    {
     "name": "stdout",
     "output_type": "stream",
     "text": [
      "{0, 1, 2, 4, 7}\n"
     ]
    },
    {
     "data": {
      "text/plain": [
       "set"
      ]
     },
     "execution_count": 7,
     "metadata": {},
     "output_type": "execute_result"
    }
   ],
   "source": [
    "set3 = {1, 7, 4, 2, 0}\n",
    "print(set3)\n",
    "type(set3)"
   ]
  },
  {
   "cell_type": "markdown",
   "metadata": {},
   "source": [
    "$\\textbf{Observación}$. Al decir que los conjuntos no tienen orden, lo que ocurre es que Python no mantendrá el que hemos introducido, tal y como hacía con las listas, sino que reordenará todos los elementos por orden primero numérico (yendo antes los negativos que los positivos) y luego alfabético de las claves. Con la función print(), si hay elementos negativos, el conjunto no se ordena correctamente."
   ]
  },
  {
   "cell_type": "code",
   "execution_count": 8,
   "metadata": {},
   "outputs": [
    {
     "data": {
      "text/plain": [
       "{1, 2, 3, 4, 5, 'a', 'e', 'i', 'o', 'u'}"
      ]
     },
     "execution_count": 8,
     "metadata": {},
     "output_type": "execute_result"
    }
   ],
   "source": [
    "set1 = {1, \"a\", \"i\", \"o\", 2, \"e\", 4, 3, 5, \"u\"}\n",
    "set1"
   ]
  },
  {
   "cell_type": "code",
   "execution_count": 9,
   "metadata": {},
   "outputs": [
    {
     "name": "stdout",
     "output_type": "stream",
     "text": [
      "{1, 'i', 2, 4, 'e', 3, 5, 'o', 'u', 'a'}\n"
     ]
    }
   ],
   "source": [
    "print(set1)"
   ]
  },
  {
   "cell_type": "code",
   "execution_count": 10,
   "metadata": {},
   "outputs": [
    {
     "data": {
      "text/plain": [
       "{-1, -3, 1, 2, 3, 4, 5, 'a', 'e', 'i', 'o', 'u'}"
      ]
     },
     "execution_count": 10,
     "metadata": {},
     "output_type": "execute_result"
    }
   ],
   "source": [
    "set2 = {-1, \"a\", 3, \"i\", \"o\", 2, \"e\", 4, -3, 5, \"u\", 1}\n",
    "set2"
   ]
  },
  {
   "cell_type": "markdown",
   "metadata": {},
   "source": [
    "Por lo que hemos visto hasta ahora, podemos decir que los conjuntos en Python son fieles a la definición matemática de éstos, salvo por el hecho de que en Python un conjunto no puede contener como elemento a otro conjunto:\n",
    "\n",
    "Conjunto. Colección de elementos pertenecientes a la misma categoría, y cuya agrupación puede ser considerada o identificada en sí misma como un objeto. Un conjunto queda definido únicamente por sus elementos y por nada más. En particular, un conjunto puede escribirse como una lista de elementos, pero cambiar el orden de dicha lista o añadir elementos repetidos no define un conjunto nuevo."
   ]
  },
  {
   "cell_type": "markdown",
   "metadata": {},
   "source": [
    "## Subconjuntos\n",
    "\n",
    "### Subconjunto. \n",
    "Un subconjunto  B  de un conjunto  A  es un conjunto que contiene algunos de los elementos de  A  (o quizá todos). Se denota por  B⊆A \n",
    "\n",
    "### Subconjunto propio. \n",
    "Un subconjunto propio  B  de un conjunto  A  es un conjunto que tiene algunos de los elementos de  A , pero no todos. Se denota por  B⊂A \n",
    "\n",
    "Para saber si un conjunto  B  es subconjunto del conjunto  A , podemos utilizar el método .issubset() o el comparador <=. Para saber si se trata de un subconjunto propio, tenemos el comparador <.\n",
    "\n"
   ]
  },
  {
   "cell_type": "code",
   "execution_count": 11,
   "metadata": {},
   "outputs": [
    {
     "data": {
      "text/plain": [
       "True"
      ]
     },
     "execution_count": 11,
     "metadata": {},
     "output_type": "execute_result"
    }
   ],
   "source": [
    "A, B = {0, 3, 7, 2, 5}, {2, 3, 0}\n",
    "B.issubset(A) # B es subconjunto del conjunto A. "
   ]
  },
  {
   "cell_type": "code",
   "execution_count": 12,
   "metadata": {},
   "outputs": [
    {
     "data": {
      "text/plain": [
       "True"
      ]
     },
     "execution_count": 12,
     "metadata": {},
     "output_type": "execute_result"
    }
   ],
   "source": [
    "B <= A"
   ]
  },
  {
   "cell_type": "code",
   "execution_count": 13,
   "metadata": {},
   "outputs": [
    {
     "data": {
      "text/plain": [
       "True"
      ]
     },
     "execution_count": 13,
     "metadata": {},
     "output_type": "execute_result"
    }
   ],
   "source": [
    "B < A "
   ]
  },
  {
   "cell_type": "markdown",
   "metadata": {},
   "source": [
    "## Superconjunto.\n",
    "Un superconjunto  A  de un conjunto  B  es un conjunto que contiene a  B . Se denota por  A⊇B \n",
    "\n",
    "## Superconjunto propio. \n",
    "Un superconjunto propio  A  de un conjunto  B  es un conjunto que contiene a  B  y consta de al menos un elemento más. Se denota por  A⊃B \n",
    "\n",
    "Para saber si un conjunto  A  es superconjunto del conjunto  B , podemos utilizar el método .issuperset() o el comparador >=. Para saber si se trata de un superconjunto propio, tenemos el comparador >."
   ]
  },
  {
   "cell_type": "code",
   "execution_count": 14,
   "metadata": {},
   "outputs": [
    {
     "data": {
      "text/plain": [
       "True"
      ]
     },
     "execution_count": 14,
     "metadata": {},
     "output_type": "execute_result"
    }
   ],
   "source": [
    "A, B = {0, 3, 7, 2, 5}, {2, 3, 0}\n",
    "A.issuperset(B)"
   ]
  },
  {
   "cell_type": "code",
   "execution_count": 15,
   "metadata": {},
   "outputs": [
    {
     "data": {
      "text/plain": [
       "True"
      ]
     },
     "execution_count": 15,
     "metadata": {},
     "output_type": "execute_result"
    }
   ],
   "source": [
    "A >= B"
   ]
  },
  {
   "cell_type": "code",
   "execution_count": 16,
   "metadata": {},
   "outputs": [
    {
     "data": {
      "text/plain": [
       "True"
      ]
     },
     "execution_count": 16,
     "metadata": {},
     "output_type": "execute_result"
    }
   ],
   "source": [
    "A > B"
   ]
  },
  {
   "cell_type": "markdown",
   "metadata": {},
   "source": [
    "## Union de conjuntos"
   ]
  },
  {
   "cell_type": "code",
   "execution_count": 17,
   "metadata": {},
   "outputs": [
    {
     "data": {
      "text/plain": [
       "{0, 1, 2, 3, 4, 5, 6, 7, 8, 9}"
      ]
     },
     "execution_count": 17,
     "metadata": {},
     "output_type": "execute_result"
    }
   ],
   "source": [
    "A, B = {1, 3, 5, 7, 9}, {0, 2, 4, 6, 8}\n",
    "A | B"
   ]
  },
  {
   "cell_type": "code",
   "execution_count": 18,
   "metadata": {},
   "outputs": [
    {
     "data": {
      "text/plain": [
       "{0, 1, 2, 3, 4, 5, 6, 7, 8, 9}"
      ]
     },
     "execution_count": 18,
     "metadata": {},
     "output_type": "execute_result"
    }
   ],
   "source": [
    "A.union(B)"
   ]
  },
  {
   "cell_type": "code",
   "execution_count": 19,
   "metadata": {},
   "outputs": [
    {
     "data": {
      "text/plain": [
       "{0, 1, 2, 3, 4, 5, 6, 7, 8, 9}"
      ]
     },
     "execution_count": 19,
     "metadata": {},
     "output_type": "execute_result"
    }
   ],
   "source": [
    "B.union(A)"
   ]
  },
  {
   "cell_type": "markdown",
   "metadata": {},
   "source": [
    "# Interseccion de conjuntos"
   ]
  },
  {
   "cell_type": "code",
   "execution_count": 20,
   "metadata": {},
   "outputs": [
    {
     "data": {
      "text/plain": [
       "{0, 8}"
      ]
     },
     "execution_count": 20,
     "metadata": {},
     "output_type": "execute_result"
    }
   ],
   "source": [
    "A, B = {0, 1, 3, 5, 8, 13}, {0, 2, 4, 6, 8}\n",
    "A & B"
   ]
  },
  {
   "cell_type": "code",
   "execution_count": 21,
   "metadata": {},
   "outputs": [
    {
     "data": {
      "text/plain": [
       "{0, 8}"
      ]
     },
     "execution_count": 21,
     "metadata": {},
     "output_type": "execute_result"
    }
   ],
   "source": [
    "A.intersection(B)"
   ]
  },
  {
   "cell_type": "code",
   "execution_count": 22,
   "metadata": {},
   "outputs": [
    {
     "data": {
      "text/plain": [
       "{0, 8}"
      ]
     },
     "execution_count": 22,
     "metadata": {},
     "output_type": "execute_result"
    }
   ],
   "source": [
    "B.intersection(A)"
   ]
  },
  {
   "cell_type": "markdown",
   "metadata": {},
   "source": [
    "# Diferencia de conjuntos "
   ]
  },
  {
   "cell_type": "code",
   "execution_count": 23,
   "metadata": {},
   "outputs": [
    {
     "data": {
      "text/plain": [
       "{1, 5, 13}"
      ]
     },
     "execution_count": 23,
     "metadata": {},
     "output_type": "execute_result"
    }
   ],
   "source": [
    "A, B = {0, 1, 4, 5, 8, 13}, {0, 3, 4, 7, 8}\n",
    "A - B"
   ]
  },
  {
   "cell_type": "code",
   "execution_count": 24,
   "metadata": {},
   "outputs": [
    {
     "data": {
      "text/plain": [
       "{1, 5, 13}"
      ]
     },
     "execution_count": 24,
     "metadata": {},
     "output_type": "execute_result"
    }
   ],
   "source": [
    "A.difference(B)"
   ]
  },
  {
   "cell_type": "code",
   "execution_count": 25,
   "metadata": {},
   "outputs": [
    {
     "data": {
      "text/plain": [
       "{3, 7}"
      ]
     },
     "execution_count": 25,
     "metadata": {},
     "output_type": "execute_result"
    }
   ],
   "source": [
    "B.difference(A)"
   ]
  },
  {
   "cell_type": "markdown",
   "metadata": {},
   "source": [
    "# Diferencia simetrica de conjuntos"
   ]
  },
  {
   "cell_type": "code",
   "execution_count": 26,
   "metadata": {},
   "outputs": [
    {
     "data": {
      "text/plain": [
       "{1, 3, 5, 7, 13}"
      ]
     },
     "execution_count": 26,
     "metadata": {},
     "output_type": "execute_result"
    }
   ],
   "source": [
    "A, B = {0, 1, 4, 5, 8, 13}, {0, 3, 4, 7, 8}\n",
    "A.symmetric_difference(B)"
   ]
  },
  {
   "cell_type": "code",
   "execution_count": 27,
   "metadata": {},
   "outputs": [
    {
     "data": {
      "text/plain": [
       "{1, 3, 5, 7, 13}"
      ]
     },
     "execution_count": 27,
     "metadata": {},
     "output_type": "execute_result"
    }
   ],
   "source": [
    "(A-B) | (B-A)"
   ]
  },
  {
   "cell_type": "code",
   "execution_count": 28,
   "metadata": {},
   "outputs": [
    {
     "data": {
      "text/plain": [
       "{1, 3, 5, 7, 13}"
      ]
     },
     "execution_count": 28,
     "metadata": {},
     "output_type": "execute_result"
    }
   ],
   "source": [
    "(A | B) - (A & B)"
   ]
  },
  {
   "cell_type": "markdown",
   "metadata": {},
   "source": [
    "# Elemento de un conjunto \n",
    "\n",
    "Podemos añadir un elemento de un conjunto con el metodo $\\textbf{.add()}$."
   ]
  },
  {
   "cell_type": "code",
   "execution_count": 29,
   "metadata": {},
   "outputs": [
    {
     "name": "stdout",
     "output_type": "stream",
     "text": [
      "{1, 2, 3, 4, 5, -1}\n"
     ]
    }
   ],
   "source": [
    "set1 = {1, 2, 3, 4, 5}\n",
    "set1.add(-1)\n",
    "print(set1)\n"
   ]
  },
  {
   "cell_type": "markdown",
   "metadata": {},
   "source": [
    "Para añadir elementos de otro conjunto en el conjunto actual, podemos usar el método $\\textbf{.update()}$.\n",
    "\n"
   ]
  },
  {
   "cell_type": "code",
   "execution_count": 30,
   "metadata": {},
   "outputs": [
    {
     "name": "stdout",
     "output_type": "stream",
     "text": [
      "{1, 2, 3, 4, 5}\n",
      "{1, 2, 3, 4, 5, -1, -5, -4, -3, -2}\n"
     ]
    }
   ],
   "source": [
    "set1 = {1, 2, 3, 4, 5}\n",
    "set2 = {-1, -2, -3, -4, -5}\n",
    "\n",
    "print(set1)\n",
    "\n",
    "set1.update(set2)\n",
    "print(set1)"
   ]
  },
  {
   "cell_type": "markdown",
   "metadata": {},
   "source": [
    "Observación. El método $\\textbf{.update()}$ nos permite añadir los elementos de un iterable al conjunto actual"
   ]
  },
  {
   "cell_type": "code",
   "execution_count": 31,
   "metadata": {},
   "outputs": [
    {
     "name": "stdout",
     "output_type": "stream",
     "text": [
      "{1, 2, 3, 4, 5, -1, -5, -4, -3, -2}\n"
     ]
    }
   ],
   "source": [
    "set1 = {1, 2, 3, 4, 5}\n",
    "l = [-1, -2, -3, -4, -5]\n",
    "\n",
    "set1.update(l)\n",
    "print(set1)"
   ]
  },
  {
   "cell_type": "markdown",
   "metadata": {},
   "source": [
    "Podemos averiguar si un elemento pertenece a un conjunto con el operador $\\textbf{in}$.\n",
    "\n"
   ]
  },
  {
   "cell_type": "code",
   "execution_count": 32,
   "metadata": {},
   "outputs": [
    {
     "name": "stdout",
     "output_type": "stream",
     "text": [
      "True\n",
      "False\n"
     ]
    }
   ],
   "source": [
    "set1 = {1, -1, 2, -2, 3, -3}\n",
    "print(3 in set1)\n",
    "print(0 in set1)"
   ]
  },
  {
   "cell_type": "markdown",
   "metadata": {},
   "source": [
    "También podemos eliminar elementos de un conjunto con los métodos $\\textbf{.remove()}$ o $\\textbf{.discard()}$."
   ]
  },
  {
   "cell_type": "code",
   "execution_count": 33,
   "metadata": {},
   "outputs": [
    {
     "name": "stdout",
     "output_type": "stream",
     "text": [
      "False\n",
      "False\n",
      "{'e', 'i', 'u'}\n"
     ]
    }
   ],
   "source": [
    "set1 = {\"a\",  \"e\", \"i\", \"o\", \"u\"}\n",
    "set1.remove(\"a\")\n",
    "set1.discard(\"o\")\n",
    "\n",
    "print(\"a\" in set1)\n",
    "print(\"o\" in set1)\n",
    "print(set1)"
   ]
  },
  {
   "cell_type": "markdown",
   "metadata": {},
   "source": [
    "Observación. Si intentamos eliminar un elemento que no existe ya de por sí en el conjunto con el método .remove(), Python nos devolverá error, mientras que con el método .discard() no devolverá ningún error.\n",
    "\n",
    "## Tamaño de un conjunto\n",
    "Para saber cuántos elementos contiene un conjunto, podemos usar la función $\\textbf{len()}$ del siguiente modo:"
   ]
  },
  {
   "cell_type": "code",
   "execution_count": 34,
   "metadata": {},
   "outputs": [
    {
     "name": "stdout",
     "output_type": "stream",
     "text": [
      "10\n"
     ]
    }
   ],
   "source": [
    "set1 = {1, \"a\", \"i\", \"o\", 2, \"e\", 4, 3, 5, \"u\"}\n",
    "print(len(set1))"
   ]
  },
  {
   "cell_type": "markdown",
   "metadata": {},
   "source": [
    "# BUCLES Y CONJUNTOS "
   ]
  },
  {
   "cell_type": "markdown",
   "metadata": {},
   "source": [
    "Podemos acceder a los elementos de un conjunto con un ciclo for. "
   ]
  },
  {
   "cell_type": "code",
   "execution_count": 35,
   "metadata": {},
   "outputs": [
    {
     "name": "stdout",
     "output_type": "stream",
     "text": [
      "manzana\n",
      "melón\n",
      "pera\n"
     ]
    }
   ],
   "source": [
    "set1 = {\"manzana\", \"pera\", \"melón\"}\n",
    "for item in set1:\n",
    "  print(item)"
   ]
  },
  {
   "cell_type": "markdown",
   "metadata": {},
   "source": [
    "# MAS METODOS DE DE CONJUNTOS"
   ]
  },
  {
   "cell_type": "markdown",
   "metadata": {},
   "source": [
    "El método $\\textbf{.pop()}$ nos devuelve un objeto del conjunto (como no hay orden, no sabemos cuál es) y lo elimina de éste."
   ]
  },
  {
   "cell_type": "code",
   "execution_count": 36,
   "metadata": {},
   "outputs": [
    {
     "data": {
      "text/plain": [
       "{-3, 5, 'a', 'b', 'u'}"
      ]
     },
     "execution_count": 36,
     "metadata": {},
     "output_type": "execute_result"
    }
   ],
   "source": [
    "set1 = {\"u\", 5, -3, \"a\", \"b\"}\n",
    "set1"
   ]
  },
  {
   "cell_type": "code",
   "execution_count": 37,
   "metadata": {},
   "outputs": [
    {
     "data": {
      "text/plain": [
       "'u'"
      ]
     },
     "execution_count": 37,
     "metadata": {},
     "output_type": "execute_result"
    }
   ],
   "source": [
    "set1.pop()"
   ]
  },
  {
   "cell_type": "code",
   "execution_count": 38,
   "metadata": {},
   "outputs": [
    {
     "data": {
      "text/plain": [
       "{-3, 5, 'a', 'b'}"
      ]
     },
     "execution_count": 38,
     "metadata": {},
     "output_type": "execute_result"
    }
   ],
   "source": [
    "set1"
   ]
  },
  {
   "cell_type": "markdown",
   "metadata": {},
   "source": [
    "El método $\\textbf{.clear()}$ vacía el conjunto."
   ]
  },
  {
   "cell_type": "markdown",
   "metadata": {},
   "source": [
    "# EJERCICIO. \n",
    "\n",
    "Vamos a pedirle al usuario una frase y vamos a guardar en un conjunto las letras que aparecen en dicha frase. "
   ]
  },
  {
   "cell_type": "code",
   "execution_count": 2,
   "metadata": {},
   "outputs": [
    {
     "name": "stdout",
     "output_type": "stream",
     "text": [
      "{'o', 'a', 'h', 'l'}\n"
     ]
    }
   ],
   "source": [
    "s = input(\"Introduce una frase: \")\n",
    "\n",
    "letters = set()\n",
    "\n",
    "for c in s.lower():\n",
    "  if c != \" \":\n",
    "    letters.add(c)\n",
    "\n",
    "print(letters)"
   ]
  },
  {
   "cell_type": "code",
   "execution_count": 3,
   "metadata": {},
   "outputs": [],
   "source": [
    "A = {1,1,1,2,3,4,5}"
   ]
  },
  {
   "cell_type": "code",
   "execution_count": null,
   "metadata": {},
   "outputs": [
    {
     "name": "stdout",
     "output_type": "stream",
     "text": [
      "{1, 2, 3, 4, 5}\n"
     ]
    }
   ],
   "source": [
    "print(A)"
   ]
  },
  {
   "cell_type": "markdown",
   "metadata": {},
   "source": [
    "# Ejercicio\n",
    "\n",
    "Vamos a pedirle al usuario dos palabras y vamos a calcular la intersección de las letras de cada palabra. Para ello habrá que crear dos conjuntos que contendrán, respectivamente, las letras que forman cada palabra."
   ]
  },
  {
   "cell_type": "code",
   "execution_count": 4,
   "metadata": {},
   "outputs": [
    {
     "name": "stdout",
     "output_type": "stream",
     "text": [
      "{'h', 'a', 'o', 'l'}\n"
     ]
    }
   ],
   "source": [
    "word1 = input(\"Palabra 1: \")\n",
    "word2 = input(\"Palabra 2: \")\n",
    "\n",
    "letters1 = set()\n",
    "letters2 = set()\n",
    "\n",
    "for l in word1.lower():\n",
    "  letters1.add(l)\n",
    "\n",
    "for l in word2.lower():\n",
    "  letters2.add(l)\n",
    "\n",
    "common = letters1 & letters2\n",
    "print(common)"
   ]
  },
  {
   "cell_type": "markdown",
   "metadata": {},
   "source": [
    "# Ejercicio\n",
    "\n",
    "Vamos a pedirle 4 números enteros al usuario. Se corresponderán con los extremos de los intervalos  [a,b]  y  [c,d] . Vamos a generar dos conjuntos que guarden, respectivamente, los enteros contenidos en cada uno de los intervalos (incluyendo los extremos) y, finalmente, calcularemos la diferencia simétrica."
   ]
  },
  {
   "cell_type": "code",
   "execution_count": null,
   "metadata": {},
   "outputs": [
    {
     "name": "stdout",
     "output_type": "stream",
     "text": [
      "a = 3\n",
      "b = 5\n",
      "c = 8\n",
      "d = 10\n",
      "{3, 4, 5, 8, 9, 10}\n"
     ]
    }
   ],
   "source": [
    "a = int(input(\"a = \"))\n",
    "b = int(input(\"b = \"))\n",
    "c = int(input(\"c = \"))\n",
    "d = int(input(\"d = \"))\n",
    "\n",
    "if b < a or d < c:\n",
    "  print(\"No has proporcionado dos intevalos\")\n",
    "\n",
    "else:\n",
    "  ab = set(range(a, b + 1))\n",
    "  cd = set(range(c, d + 1))\n",
    "\n",
    "  print(ab.symmetric_difference(cd))"
   ]
  },
  {
   "cell_type": "markdown",
   "metadata": {},
   "source": [
    "# Ejercicio\n",
    "\n",
    "Vamos a guardar en un conjunto los números primos comprendidos entre 2 y el número  n  que nos indique el usuario mediante la criba de Eratóstenes."
   ]
  },
  {
   "cell_type": "code",
   "execution_count": null,
   "metadata": {},
   "outputs": [
    {
     "name": "stdout",
     "output_type": "stream",
     "text": [
      "Introduce un número entero mayor que 2: 25\n",
      "{2, 3, 5, 7, 11, 13, 17, 19, 23}\n"
     ]
    }
   ],
   "source": [
    "n = int(input(\"Introduce un número entero mayor que 2: \"))\n",
    "primes = set(range(2, n + 1))\n",
    "numbers = list(range(2, n + 1))\n",
    "multiples = [True for x in range(len(numbers))]\n",
    "\n",
    "for i in range(len(numbers)):\n",
    "  if multiples[i] == False:\n",
    "    continue\n",
    "  for j in range(i + 1, len(numbers)):\n",
    "    if numbers[j] % numbers[i] == 0:\n",
    "      multiples[j] = False\n",
    "      primes.discard(numbers[j])\n",
    "\n",
    "print(primes)"
   ]
  },
  {
   "cell_type": "markdown",
   "metadata": {},
   "source": [
    "# Ejercicio\n",
    "Vamos a crear un programa que nos devuelva el elemento máximo de un conjunto sin utilizar la función $\\textbf{max()}$.\n",
    "\n"
   ]
  },
  {
   "cell_type": "code",
   "execution_count": null,
   "metadata": {},
   "outputs": [
    {
     "name": "stdout",
     "output_type": "stream",
     "text": [
      "El máximo de {3, 5, 9, 10, 20, -5, 30} es 30\n"
     ]
    }
   ],
   "source": [
    "myset = {20, 3, 5, 10, 9, 30, -5, 30}\n",
    "max = -99999\n",
    "\n",
    "for e in myset:\n",
    "  if e > max:\n",
    "    max = e\n",
    "\n",
    "print(\"El máximo de {} es {}\".format(myset, max))"
   ]
  },
  {
   "cell_type": "code",
   "execution_count": null,
   "metadata": {},
   "outputs": [
    {
     "name": "stdout",
     "output_type": "stream",
     "text": [
      "Introduce un numero entero: 20\n",
      "Los divisores del numero introducido son: {1, 2, 4, 5, 10, 20}\n"
     ]
    }
   ],
   "source": [
    "#Ejercicio 1\n",
    "#Dado un número entero introducido por teclado, guarda sus divisores en un conjunto y muéstralo.\n",
    "\n",
    "n = int(input(\"Introduce un numero entero: \"))\n",
    "set1 = set()\n",
    "for i in range(1,n+1):\n",
    "    if n % i == 0:\n",
    "        set1.add(i)\n",
    "    else:\n",
    "        continue\n",
    "print(\"Los divisores del numero introducido son: {}\".format(set1))"
   ]
  },
  {
   "cell_type": "code",
   "execution_count": null,
   "metadata": {},
   "outputs": [
    {
     "ename": "ModuleNotFoundError",
     "evalue": "No module named 'sympy'",
     "output_type": "error",
     "traceback": [
      "\u001b[31m---------------------------------------------------------------------------\u001b[39m",
      "\u001b[31mModuleNotFoundError\u001b[39m                       Traceback (most recent call last)",
      "\u001b[36mCell\u001b[39m\u001b[36m \u001b[39m\u001b[32mIn[5]\u001b[39m\u001b[32m, line 1\u001b[39m\n\u001b[32m----> \u001b[39m\u001b[32m1\u001b[39m \u001b[38;5;28;01mfrom\u001b[39;00m\u001b[38;5;250m \u001b[39m\u001b[34;01msympy\u001b[39;00m\u001b[38;5;250m \u001b[39m\u001b[38;5;28;01mimport\u001b[39;00m FiniteSet\n\u001b[32m      2\u001b[39m \u001b[38;5;28;01mfrom\u001b[39;00m\u001b[38;5;250m \u001b[39m\u001b[34;01mmatplotlib_venn\u001b[39;00m\u001b[38;5;250m \u001b[39m\u001b[38;5;28;01mimport\u001b[39;00m venn2, venn3, venn2_circles, venn3_circles\n\u001b[32m      3\u001b[39m \u001b[38;5;28;01mimport\u001b[39;00m\u001b[38;5;250m \u001b[39m\u001b[34;01mmatplotlib\u001b[39;00m\u001b[34;01m.\u001b[39;00m\u001b[34;01mpyplot\u001b[39;00m\u001b[38;5;250m \u001b[39m\u001b[38;5;28;01mas\u001b[39;00m\u001b[38;5;250m \u001b[39m\u001b[34;01mplt\u001b[39;00m\n",
      "\u001b[31mModuleNotFoundError\u001b[39m: No module named 'sympy'"
     ]
    }
   ],
   "source": [
    "\n",
    "\n",
    "l = []\n",
    "for i in range(3):\n",
    "    l.append([])\n",
    "    j = 0\n",
    "    while True:\n",
    "        l[i].append(int(input(\"{}. Introduce un elemento del conjunto: \".format(j+1))))\n",
    "        if l[i][j] == 0:\n",
    "            l[i] = set(l[i])\n",
    "            print(\"\\n\")\n",
    "            break\n",
    "        else:\n",
    "            j=j+1\n",
    "            continue\n",
    "A = l[0]\n",
    "B = l[1]\n",
    "C = l[2]\n",
    "\n",
    "v =venn3(subsets = [A, B, C], set_labels =('A', 'B', 'C'), set_colors=('red', 'blue', 'yellow'), alpha = 0.5)\n",
    "venn3_circles(subsets =[A, B, C])\n",
    "\n",
    "v.get_label_by_id('100').set_text(A-(B.union(C)))\n",
    "v.get_label_by_id('010').set_text(B-(A.union(C)))\n",
    "v.get_label_by_id('001').set_text(C-(A.union(B)))\n",
    "v.get_label_by_id('110').set_text(A.intersection(B)-C)\n",
    "v.get_label_by_id('101').set_text(A.intersection(C)-B)\n",
    "v.get_label_by_id('111').set_text(A.intersection(B).intersection(C))\n",
    "\n",
    "plt.show()"
   ]
  },
  {
   "cell_type": "code",
   "execution_count": null,
   "metadata": {},
   "outputs": [
    {
     "name": "stdout",
     "output_type": "stream",
     "text": [
      "Introduce un número: 10\n",
      "Introduce un segundo un número: 4\n"
     ]
    }
   ],
   "source": [
    "\n",
    "while True:\n",
    "    m = int(input(\"Introduce un número: \"))\n",
    "    n = int(input(\"Introduce un segundo un número: \"))\n",
    "    if n<m:\n",
    "        break\n",
    "    else:\n",
    "        print(\"Tu primer número debe de ser mayor al segundo\")\n",
    "        print(\"Introduce nuevamente\")\n",
    "        print(\"\\n\")\n",
    " \n",
    "l = []\n",
    "for i in range(m):\n",
    "    if i+1>=n:\n",
    "        l.append(i+1)\n",
    "    else:\n",
    "        continue\n",
    "\n",
    "l2 = []\n",
    "for i in range(2**len(l)):\n",
    "    l2.append([])\n",
    "\n",
    "for i in range(len(l)):\n",
    "    l2[i].append(l[i])\n",
    "    j = i+1\n",
    "    \n",
    "l2[j].append(4)\n",
    "l2[j].append(5)"
   ]
  }
 ],
 "metadata": {
  "kernelspec": {
   "display_name": "venv",
   "language": "python",
   "name": "python3"
  },
  "language_info": {
   "codemirror_mode": {
    "name": "ipython",
    "version": 3
   },
   "file_extension": ".py",
   "mimetype": "text/x-python",
   "name": "python",
   "nbconvert_exporter": "python",
   "pygments_lexer": "ipython3",
   "version": "3.12.6"
  }
 },
 "nbformat": 4,
 "nbformat_minor": 4
}
