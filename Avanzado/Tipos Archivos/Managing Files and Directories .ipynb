{
 "cells": [
  {
   "cell_type": "code",
   "execution_count": 6,
   "metadata": {},
   "outputs": [],
   "source": [
    "import os \n"
   ]
  },
  {
   "cell_type": "code",
   "execution_count": 13,
   "metadata": {},
   "outputs": [],
   "source": [
    "prueba = \"C:/Users/URIEL/Documents/CURSO PYTHON\\AUTOMATIZACION TI CON GOOGLE/Files with Python/prueba.txt\"\n",
    "prueba2 = 'C:/Users/URIEL/Documents/CURSO PYTHON\\AUTOMATIZACION TI CON GOOGLE/Files with Python/prueba2.txt'"
   ]
  },
  {
   "cell_type": "code",
   "execution_count": 14,
   "metadata": {},
   "outputs": [],
   "source": [
    "# crear un archivo txt en la ruta especificada. \n",
    "with open(prueba,\"w\") as file:\n",
    "    file.write(\"I am learning Python!\\n\")\n",
    "    file.write(\"I am really enjoying it!\\n\")\n",
    "    file.write(\"And I want to add more lines to say how much I like it\")"
   ]
  },
  {
   "cell_type": "code",
   "execution_count": 12,
   "metadata": {},
   "outputs": [],
   "source": [
    "os.remove(prueba) #eliminar archivo"
   ]
  },
  {
   "cell_type": "code",
   "execution_count": 15,
   "metadata": {},
   "outputs": [],
   "source": [
    "os.rename(prueba,prueba2) #renombrar el archivo."
   ]
  },
  {
   "cell_type": "code",
   "execution_count": 16,
   "metadata": {},
   "outputs": [
    {
     "data": {
      "text/plain": [
       "True"
      ]
     },
     "execution_count": 16,
     "metadata": {},
     "output_type": "execute_result"
    }
   ],
   "source": [
    "#para verificar si el archivo existe o no. \n",
    "os.path.exists(prueba2) #devuelve True si si existe"
   ]
  },
  {
   "cell_type": "code",
   "execution_count": 18,
   "metadata": {},
   "outputs": [
    {
     "data": {
      "text/plain": [
       "103"
      ]
     },
     "execution_count": 18,
     "metadata": {},
     "output_type": "execute_result"
    }
   ],
   "source": [
    "#que tan grande es un archivo en bytes\n",
    "os.path.getsize(prueba2)"
   ]
  },
  {
   "cell_type": "code",
   "execution_count": 19,
   "metadata": {},
   "outputs": [
    {
     "data": {
      "text/plain": [
       "1680541791.8906524"
      ]
     },
     "execution_count": 19,
     "metadata": {},
     "output_type": "execute_result"
    }
   ],
   "source": [
    "#ultima vez que se modificó. \n",
    "os.path.getmtime(prueba2) #numero de segundos desde el 1 de enero de 1970"
   ]
  },
  {
   "cell_type": "code",
   "execution_count": 21,
   "metadata": {},
   "outputs": [
    {
     "data": {
      "text/plain": [
       "datetime.datetime(2023, 4, 3, 12, 9, 51, 890652)"
      ]
     },
     "execution_count": 21,
     "metadata": {},
     "output_type": "execute_result"
    }
   ],
   "source": [
    "import datetime \n",
    "timestamp = os.path.getmtime(prueba2)\n",
    "datetime.datetime.fromtimestamp(timestamp)"
   ]
  },
  {
   "cell_type": "code",
   "execution_count": 22,
   "metadata": {},
   "outputs": [
    {
     "data": {
      "text/plain": [
       "'C:\\\\Users\\\\URIEL\\\\Documents\\\\CURSO PYTHON\\\\AUTOMATIZACION TI CON GOOGLE\\\\Files with Python\\\\prueba2.txt'"
      ]
     },
     "execution_count": 22,
     "metadata": {},
     "output_type": "execute_result"
    }
   ],
   "source": [
    "# toma un nombre de archivo y lo devuelve en ruta absoluta\n",
    "os.path.abspath(prueba2)"
   ]
  },
  {
   "cell_type": "code",
   "execution_count": 24,
   "metadata": {},
   "outputs": [
    {
     "data": {
      "text/plain": [
       "'C:\\\\Users\\\\URIEL\\\\Documents\\\\CURSO PYTHON\\\\AUTOMATIZACION TI CON GOOGLE\\\\Files with Python'"
      ]
     },
     "execution_count": 24,
     "metadata": {},
     "output_type": "execute_result"
    }
   ],
   "source": [
    "os.getcwd() #directorio actual de trabajo "
   ]
  },
  {
   "cell_type": "code",
   "execution_count": 25,
   "metadata": {},
   "outputs": [],
   "source": [
    "os.mkdir('Directorio_Nuevo') #creamos un directorio en la ruta relativa de arriva."
   ]
  },
  {
   "cell_type": "code",
   "execution_count": 26,
   "metadata": {},
   "outputs": [],
   "source": [
    "os.chdir('Directorio_Nuevo') #cambiar directorio"
   ]
  },
  {
   "cell_type": "code",
   "execution_count": 27,
   "metadata": {},
   "outputs": [
    {
     "data": {
      "text/plain": [
       "'C:\\\\Users\\\\URIEL\\\\Documents\\\\CURSO PYTHON\\\\AUTOMATIZACION TI CON GOOGLE\\\\Files with Python\\\\Directorio_Nuevo'"
      ]
     },
     "execution_count": 27,
     "metadata": {},
     "output_type": "execute_result"
    }
   ],
   "source": [
    "os.getcwd()"
   ]
  },
  {
   "cell_type": "code",
   "execution_count": 30,
   "metadata": {},
   "outputs": [
    {
     "name": "stdout",
     "output_type": "stream",
     "text": [
      "True\n",
      "False\n"
     ]
    }
   ],
   "source": [
    "os.mkdir('Directorio_Nuevo2')\n",
    "print(os.path.exists('Directorio_Nuevo2'))\n",
    "os.rmdir('Directorio_Nuevo2') #Eliminar directorio.\n",
    "print(os.path.exists('Directorio_Nuevo2'))"
   ]
  },
  {
   "cell_type": "code",
   "execution_count": 31,
   "metadata": {},
   "outputs": [
    {
     "data": {
      "text/plain": [
       "['.ipynb_checkpoints',\n",
       " 'Directorio_Nuevo',\n",
       " 'Managing Files and Directories .ipynb',\n",
       " 'prueba2.txt',\n",
       " 'Reading and writing files.ipynb']"
      ]
     },
     "execution_count": 31,
     "metadata": {},
     "output_type": "execute_result"
    }
   ],
   "source": [
    "#devuelve lista de todos los archivos y directorios en un directorio dado. \n",
    "os.listdir('C:\\\\Users\\\\URIEL\\\\Documents\\\\CURSO PYTHON\\\\AUTOMATIZACION TI CON GOOGLE\\\\Files with Python\\\\')"
   ]
  },
  {
   "cell_type": "code",
   "execution_count": 33,
   "metadata": {},
   "outputs": [
    {
     "name": "stdout",
     "output_type": "stream",
     "text": [
      "C:\\Users\\URIEL\\Documents\\CURSO PYTHON\\AUTOMATIZACION TI CON GOOGLE\\Files with Python\\.ipynb_checkpoints is a directory\n",
      "C:\\Users\\URIEL\\Documents\\CURSO PYTHON\\AUTOMATIZACION TI CON GOOGLE\\Files with Python\\Directorio_Nuevo is a directory\n",
      "C:\\Users\\URIEL\\Documents\\CURSO PYTHON\\AUTOMATIZACION TI CON GOOGLE\\Files with Python\\Managing Files and Directories .ipynb is a file\n",
      "C:\\Users\\URIEL\\Documents\\CURSO PYTHON\\AUTOMATIZACION TI CON GOOGLE\\Files with Python\\prueba2.txt is a file\n",
      "C:\\Users\\URIEL\\Documents\\CURSO PYTHON\\AUTOMATIZACION TI CON GOOGLE\\Files with Python\\Reading and writing files.ipynb is a file\n"
     ]
    }
   ],
   "source": [
    "#para saber si uno de esos archivos es directorio\n",
    "path = 'C:\\\\Users\\\\URIEL\\\\Documents\\\\CURSO PYTHON\\\\AUTOMATIZACION TI CON GOOGLE\\\\Files with Python\\\\'\n",
    "for name in os.listdir(path):\n",
    "    fullname = os.path.join(path,name)\n",
    "    if os.path.isdir(fullname):\n",
    "        print('{} is a directory'.format(fullname))\n",
    "    else:\n",
    "        print('{} is a file'.format(fullname))"
   ]
  },
  {
   "cell_type": "code",
   "execution_count": 34,
   "metadata": {},
   "outputs": [
    {
     "data": {
      "text/plain": [
       "b'C:\\\\Users\\\\URIEL\\\\Documents\\\\CURSO PYTHON\\\\AUTOMATIZACION TI CON GOOGLE\\\\Files with Python\\\\Directorio_Nuevo'"
      ]
     },
     "execution_count": 34,
     "metadata": {},
     "output_type": "execute_result"
    }
   ],
   "source": [
    "os.getcwdb()"
   ]
  },
  {
   "cell_type": "code",
   "execution_count": null,
   "metadata": {},
   "outputs": [],
   "source": []
  }
 ],
 "metadata": {
  "kernelspec": {
   "display_name": "Python 3",
   "language": "python",
   "name": "python3"
  },
  "language_info": {
   "codemirror_mode": {
    "name": "ipython",
    "version": 3
   },
   "file_extension": ".py",
   "mimetype": "text/x-python",
   "name": "python",
   "nbconvert_exporter": "python",
   "pygments_lexer": "ipython3",
   "version": "3.8.3"
  }
 },
 "nbformat": 4,
 "nbformat_minor": 4
}
