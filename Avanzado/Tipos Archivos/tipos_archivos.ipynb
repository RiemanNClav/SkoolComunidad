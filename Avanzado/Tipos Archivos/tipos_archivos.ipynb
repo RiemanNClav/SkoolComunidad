{
 "cells": [
  {
   "cell_type": "markdown",
   "id": "e07a4e56",
   "metadata": {},
   "source": [
    "\n",
    "Lectura y escritura de .txt y .csv usando with, open, y csv/pandas\n",
    "\n",
    "Trabajar con archivos .json: json.load, json.dump, diccionarios anidados\n",
    "Archivos binarios y pickle\n",
    "\n",
    "Lectura y escritura de Excel con openpyxl o pandas\n",
    "\n",
    "Validación de existencia y manejo de errores con archivos (os.path, try/except)"
   ]
  },
  {
   "cell_type": "markdown",
   "id": "86e404d5",
   "metadata": {},
   "source": []
  }
 ],
 "metadata": {
  "language_info": {
   "name": "python"
  }
 },
 "nbformat": 4,
 "nbformat_minor": 5
}
