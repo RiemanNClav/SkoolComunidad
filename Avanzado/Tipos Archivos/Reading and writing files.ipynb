{
 "cells": [
  {
   "cell_type": "code",
   "execution_count": null,
   "metadata": {},
   "outputs": [],
   "source": [
    "# Reading files \n",
    "\n",
    "file = open('spider.txt'):    #queremos abrir este archivo. \n",
    "    print(file.readline()) #permite leer solo una línea. \n",
    "    print(file.read()) #lee desde la posición actual hasta el final del archivo en lugar de una sola línea. \n",
    "    \n",
    "    file.close() #cierra el archivo\n",
    "    \n",
    "with open('spider.txt') as file: #con with python cerrara automaticamente el archivo.\n",
    "    print(file.readline())\n",
    "    "
   ]
  },
  {
   "cell_type": "code",
   "execution_count": null,
   "metadata": {},
   "outputs": [],
   "source": [
    "#iterar a través de archivos.\n",
    "\n",
    "with open('spider.txt') as file:\n",
    "    for line in file:\n",
    "        print(line.strip().upper()) #eliminar espacios en blanco, etc"
   ]
  },
  {
   "cell_type": "code",
   "execution_count": null,
   "metadata": {},
   "outputs": [],
   "source": [
    "file open('spider.txt')\n",
    "lines = file.readlines()\n",
    "file.close()\n",
    "lines.sort()\n",
    "print(lines)\n"
   ]
  },
  {
   "cell_type": "code",
   "execution_count": null,
   "metadata": {},
   "outputs": [],
   "source": [
    "with open('novel.txt','w') as file: #la w significa que abrimos el archivo para  escribir, a agrega información. \n",
    "    file.write('It was a dark')\n",
    "    "
   ]
  },
  {
   "cell_type": "code",
   "execution_count": null,
   "metadata": {},
   "outputs": [],
   "source": [
    "with open('novel.txt','w') as file: \n",
    "    file.write('It was a dark')\n",
    "    "
   ]
  }
 ],
 "metadata": {
  "kernelspec": {
   "display_name": "Python 3",
   "language": "python",
   "name": "python3"
  },
  "language_info": {
   "codemirror_mode": {
    "name": "ipython",
    "version": 3
   },
   "file_extension": ".py",
   "mimetype": "text/x-python",
   "name": "python",
   "nbconvert_exporter": "python",
   "pygments_lexer": "ipython3",
   "version": "3.8.3"
  }
 },
 "nbformat": 4,
 "nbformat_minor": 4
}
