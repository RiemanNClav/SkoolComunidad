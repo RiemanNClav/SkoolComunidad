{
 "cells": [
  {
   "cell_type": "markdown",
   "metadata": {},
   "source": [
    "# Programming with Files"
   ]
  },
  {
   "cell_type": "markdown",
   "metadata": {},
   "source": [
    "## Reading Files \n",
    "\n"
   ]
  },
  {
   "cell_type": "code",
   "execution_count": null,
   "metadata": {},
   "outputs": [],
   "source": [
    "file = open('spider.txt') #el parametro de la función es el nombre del archivo que queremos abrir, asumiendo que el archivo que \n",
    "                          # queremos leer esta en el mismo directorio que un script que estamos ejecutando\n",
    "print(file.readline()) #nos permite leer una sola linea del archivo. \n",
    "print(file.read()) #lee desde su posicion actual hasta el final. \n",
    "\n",
    "file.close() #cerrar el archivo\n",
    "\n",
    "#usamos with como alternativa a cerrar, los archivos, se recomienda este metodo cuando solo usamos un archivo en un solo bloque de codigo \n",
    "with open('spider.txt') as file: #usando el bloque con \"with\" python automaticamente cerrara el archivo\n",
    "    print(file.readline())"
   ]
  },
  {
   "cell_type": "markdown",
   "metadata": {},
   "source": [
    "## Iterating though files"
   ]
  },
  {
   "cell_type": "code",
   "execution_count": null,
   "metadata": {},
   "outputs": [],
   "source": [
    "with open('text.txt') as file:\n",
    "    for line in file:\n",
    "        print(line.upper().strip()) \n",
    "        \n",
    "\n",
    "file = open('spider.txt')\n",
    "lines = file.readlines()\n",
    "file.close()\n",
    "lines.sort()\n",
    "print(lines) #el archivo se almaceno en una lista. \n"
   ]
  },
  {
   "cell_type": "markdown",
   "metadata": {},
   "source": [
    "## Writing Files"
   ]
  },
  {
   "cell_type": "code",
   "execution_count": null,
   "metadata": {},
   "outputs": [],
   "source": [
    "with open('movel.txt','w') as file:  # los archivos se pueden abrir en varios modos diferentes, un \"Modo\" es similar a un permiso de archivo\n",
    "                                     # controla lo que puedes hacer con el archivo que acabas de abrir, 'r'=read only\n",
    "                                    # 'w': write only, 'a'= agrega contenido al final de un archivo existente. \n",
    "                                    # 'r+' = read-write, lee contenido y sobreescribe\n",
    "    file.write('It was a dark and stormy night')  "
   ]
  },
  {
   "cell_type": "markdown",
   "metadata": {},
   "source": [
    "# Files and Directorys"
   ]
  },
  {
   "cell_type": "code",
   "execution_count": null,
   "metadata": {},
   "outputs": [],
   "source": [
    "import os \n",
    "# Con esto eliminamos el archivo en el path que se especifique.\n",
    "os.remove('Text.txt')\n",
    "\n",
    "# renombrar archivos.\n",
    "or.rename('Name.txt', 'New_Name.txt')\n",
    "\n",
    "#comproborar si exite un archivo en el path especificado.\n",
    "os.path.exists('Text.txt') #output True/False.\n",
    "\n",
    "#comprobar que tan grande es el archivo, en bytes. \n",
    "os.path.getsize('Text.txt')\n",
    "\n",
    "#para ver cuando se modifico el archivo por ultima vez. \n",
    "os.path.getmtime('Text.txt')\n",
    "\n",
    "import datetime \n",
    "timestamp = os.path.getmtime('spidet.txt')\n",
    "datetime.datetime.fromtimestamp(timestamp)"
   ]
  },
  {
   "cell_type": "code",
   "execution_count": 32,
   "metadata": {},
   "outputs": [
    {
     "data": {
      "text/plain": [
       "'C:\\\\Users\\\\Uriel\\\\Documents\\\\Diccionarios'"
      ]
     },
     "execution_count": 32,
     "metadata": {},
     "output_type": "execute_result"
    }
   ],
   "source": [
    "# Busca el archivo dentro del directorio en el que estemos, devolviendo/construyendo un path fuente. \n",
    "os.path.abspath('Diccionarios')\n"
   ]
  },
  {
   "cell_type": "code",
   "execution_count": 23,
   "metadata": {},
   "outputs": [
    {
     "name": "stdout",
     "output_type": "stream",
     "text": [
      "C:\\Users\\URIEL\\Documents\\CURSO PYTHON\\ESTADISTICA CON PYTHON\n"
     ]
    }
   ],
   "source": [
    "# en donde estamos parados. \n",
    "print(os.getcwd())"
   ]
  },
  {
   "cell_type": "code",
   "execution_count": 31,
   "metadata": {},
   "outputs": [
    {
     "name": "stdout",
     "output_type": "stream",
     "text": [
      "C:\\Users\\Uriel\\Documents\n"
     ]
    }
   ],
   "source": [
    "# crear un nuevo directorio y/o carpeta en el path que se especifique\n",
    "os.mkdir('C:/Users/URIEL/Documents/CURSO PYTHON/Probando_Creacion_Directorios')\n",
    "\n",
    "#eliminar directorios\n",
    "os.rmdir('C:/Users/URIEL/Documents/CURSO PYTHON/Probando_Creacion_Directorios')\n",
    "\n",
    "#Cambiar de directorios usando la función chdir y pasando el directorio al que desea cambiar como parámetro. \n",
    "os.chdir('C:/Users/Uriel')\n",
    "    \n",
    "print(os.getcwd())\n",
    "\n",
    "# Nos devuelve una lista de todos los archivos y sbdirectorios en un directorio dado \n",
    "print(os.listdir('Uriel'))\n",
    "\n",
    "#Para saber si es un directorio o un archivo la lista de objetos de un directorio\n",
    "directory = 'website'\n",
    "for name in os.listdir(directory):\n",
    "    fullname = os.path.join(directory,name)\n",
    "    if os.path.isdir(fullname):\n",
    "        print('{} is a directory'.format(fullname))\n",
    "    else:\n",
    "        print('{} is a file'.format(fullname))"
   ]
  },
  {
   "cell_type": "markdown",
   "metadata": {},
   "source": [
    "Pregunta 1\n",
    "\n",
    "\n",
    "La función crear_script_python crea un nuevo script python en el directorio de trabajo actual, le añade la línea de comentarios declarada por la variable 'comentarios' y devuelve el tamaño del nuevo fichero. Rellena los huecos para crear un script llamado \"programa.py\"."
   ]
  },
  {
   "cell_type": "code",
   "execution_count": null,
   "metadata": {},
   "outputs": [],
   "source": [
    "def create_python_script(filename):\n",
    "  import os\n",
    "  comments = \"# Start of a new Python program\"\n",
    "  with open(filename, 'w+') as file:\n",
    "    file.write(comments)\n",
    "    file.close()\n",
    "  filesize = os.path.getsize(filename)\n",
    "  return(filesize)\n",
    "\n",
    "print(create_python_script(\"program.py\"))"
   ]
  },
  {
   "cell_type": "markdown",
   "metadata": {},
   "source": [
    "Pregunta 2\n",
    "\n",
    "La función nuevo_directorio crea un nuevo directorio dentro del directorio de trabajo actual, luego crea un nuevo archivo vacío dentro del nuevo directorio, y devuelve la lista de archivos en ese directorio. Rellena los huecos para crear un archivo \"script.py\" en el directorio \"PythonPrograms\". "
   ]
  },
  {
   "cell_type": "code",
   "execution_count": null,
   "metadata": {},
   "outputs": [],
   "source": [
    "import os\n",
    "\n",
    "def new_directory(directory, filename):\n",
    "  # Before creating a new directory, check to see if it already exists\n",
    "  if not os.path.exists(directory):\n",
    "    os.mkdir(directory)\n",
    "    name=os.path.join(directory, filename)\n",
    "    file=open(name,'w')\n",
    "    file.close()\n",
    "  return os.listdir(directory)\n",
    "\n",
    "  # Create the new file inside of the new directory\n",
    "\n",
    "  # Return the list of files in the new directory\n",
    "\n",
    "print(new_directory(\"PythonPrograms\", \"script.py\"))"
   ]
  },
  {
   "cell_type": "markdown",
   "metadata": {},
   "source": [
    "Pregunta 4\n",
    "\n",
    "La función fecha_archivo crea un nuevo archivo en el directorio de trabajo actual, comprueba la fecha en que se modificó el archivo y devuelve sólo la parte de fecha de la marca de tiempo en el formato aaaa-mm-dd. Rellena los huecos para crear un archivo llamado \"archivo_nuevo.txt\" y comprueba la fecha en que fue modificado.\n",
    "\n"
   ]
  },
  {
   "cell_type": "code",
   "execution_count": null,
   "metadata": {},
   "outputs": [],
   "source": [
    "import os\n",
    "import datetime\n",
    "\n",
    "def file_date(filename):\n",
    "  # Create the file in the current directory\n",
    "  with open(filename, \"w+\") as file:\n",
    "    pass\n",
    "  timestamp = os.path.getmtime(filename)\n",
    "  tm = datetime.datetime.fromtimestamp(timestamp).date()\n",
    "  # Convert the timestamp into a readable format, then into a string\n",
    "  \n",
    "  # Return just the date portion \n",
    "  return (\"{}\".format(tm))\n",
    "\n",
    "print(file_date(\"newfile.txt\")) \n",
    "# Should be today's date in the format of yyyy-mm-dd"
   ]
  },
  {
   "cell_type": "markdown",
   "metadata": {},
   "source": [
    "# CSV Files"
   ]
  },
  {
   "cell_type": "code",
   "execution_count": 1,
   "metadata": {},
   "outputs": [],
   "source": [
    "import csv "
   ]
  },
  {
   "cell_type": "markdown",
   "metadata": {},
   "source": [
    "## Reading CSV Files"
   ]
  },
  {
   "cell_type": "code",
   "execution_count": 2,
   "metadata": {},
   "outputs": [],
   "source": [
    "#Leer e Iterar a través de archivos CSV.\n",
    "f = open('C:/Users/URIEL/Documents/CURSO PYTHON/Pinocchio.txt')\n",
    "csv_f = csv.reader(f)\n",
    "for row in csv_f:\n",
    "    name, phone, role = row #la misma cantidad de variables, desempaquetar la lista en variables.\n",
    "    print('Name: {}, Phone: {}, Role: {}'.format(name,phone,role))"
   ]
  },
  {
   "cell_type": "markdown",
   "metadata": {},
   "source": [
    "## Generating CSV"
   ]
  },
  {
   "cell_type": "code",
   "execution_count": 11,
   "metadata": {},
   "outputs": [],
   "source": [
    "h = [['Hi',56.4],['HE',54.67]]\n",
    "with open('h.csv','w') as h_csv: #abrir el archivo en modo lectura\n",
    "    writer = csv.writer(h_csv) #variable writer es una instancia de una clase de escritor CSV.\n",
    "    write.writerow(h_csv) # escribimos una fila a la vez.\n",
    "    writer.writerows(h) #escribimos todas las filas en conjunto.\n",
    "    # con cualquier de ambas hemos ejecutado nuestros datos en el archivo CSV. "
   ]
  },
  {
   "cell_type": "markdown",
   "metadata": {},
   "source": [
    "### Reading and Writing CSV files with Dictionaries "
   ]
  },
  {
   "cell_type": "code",
   "execution_count": null,
   "metadata": {},
   "outputs": [],
   "source": [
    "# DictReader Este lector convierte cada fila de los dato de un archivo CSV en un diccionario \n",
    "with open('software.csv') as software:\n",
    "    reader = csv.DictReader(software)\n",
    "    for row in reader:\n",
    "        print('{} has {} users'.format(row['name'], row['users']))\n",
    "        \n",
    "# Generar un archivos csv desde un diccionario con DictWriter\n",
    "\n",
    "users = [{'col1': 'value1', 'col2': 'value2'},\n",
    "         {'col1': 'value3', 'col2': 'value4'}]\n",
    "keys = ['col1','col2']\n",
    "with open('archivo.csv', 'w') as file:\n",
    "    writer = csv.DictWriter(file, fieldnames = keys)\n",
    "    writer.writeheader()\n",
    "    writer.writerows(users)"
   ]
  },
  {
   "cell_type": "code",
   "execution_count": 1,
   "metadata": {},
   "outputs": [
    {
     "ename": "AttributeError",
     "evalue": "module 'os' has no attribute 'sytem'",
     "output_type": "error",
     "traceback": [
      "\u001b[1;31m---------------------------------------------------------------------------\u001b[0m",
      "\u001b[1;31mAttributeError\u001b[0m                            Traceback (most recent call last)",
      "\u001b[1;32m<ipython-input-1-7dc1f7e83644>\u001b[0m in \u001b[0;36m<module>\u001b[1;34m\u001b[0m\n\u001b[0;32m      1\u001b[0m \u001b[1;32mimport\u001b[0m \u001b[0mos\u001b[0m\u001b[1;33m\u001b[0m\u001b[1;33m\u001b[0m\u001b[0m\n\u001b[1;32m----> 2\u001b[1;33m \u001b[0mos\u001b[0m\u001b[1;33m.\u001b[0m\u001b[0msytem\u001b[0m\u001b[1;33m(\u001b[0m\u001b[1;34m\"grep -w \\\"Hello\\\" a.txt\"\u001b[0m\u001b[1;33m)\u001b[0m\u001b[1;33m\u001b[0m\u001b[1;33m\u001b[0m\u001b[0m\n\u001b[0m",
      "\u001b[1;31mAttributeError\u001b[0m: module 'os' has no attribute 'sytem'"
     ]
    }
   ],
   "source": [
    "import os\n",
    "os.sytem(\"grep -w \\\"Hello\\\" a.txt\")"
   ]
  },
  {
   "cell_type": "code",
   "execution_count": null,
   "metadata": {},
   "outputs": [],
   "source": []
  }
 ],
 "metadata": {
  "kernelspec": {
   "display_name": "Python 3",
   "language": "python",
   "name": "python3"
  },
  "language_info": {
   "codemirror_mode": {
    "name": "ipython",
    "version": 3
   },
   "file_extension": ".py",
   "mimetype": "text/x-python",
   "name": "python",
   "nbconvert_exporter": "python",
   "pygments_lexer": "ipython3",
   "version": "3.8.3"
  }
 },
 "nbformat": 4,
 "nbformat_minor": 4
}
