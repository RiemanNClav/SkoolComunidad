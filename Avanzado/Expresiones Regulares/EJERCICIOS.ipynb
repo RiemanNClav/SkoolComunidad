{
 "cells": [
  {
   "cell_type": "markdown",
   "metadata": {},
   "source": [
    "1. La función check_web_address comprueba si el texto pasado cumple los requisitos para ser una dirección web de primer nivel, lo que significa que contiene caracteres alfanuméricos (que incluyen letras, números y guiones bajos), así como puntos, guiones y un signo más, seguido de un punto y un dominio de primer nivel de sólo caracteres como \".com\", \".info\", \".edu\", etc. Rellene la expresión regular para ello, utilizando caracteres de escape, comodines, calificadores de repetición, caracteres de inicio y fin de línea y clases de caracteres."
   ]
  },
  {
   "cell_type": "code",
   "execution_count": null,
   "metadata": {},
   "outputs": [],
   "source": [
    "import re\n",
    "def check_web_address(text):\n",
    "  pattern = r\"^\\w.*\\.[a-zA-Z]*$$\"\n",
    "  result = re.search(pattern, text)\n",
    "  return result != None\n",
    "\n",
    "print(check_web_address(\"gmail.com\")) # True\n",
    "print(check_web_address(\"www@google\")) # False\n",
    "print(check_web_address(\"www.Coursera.org\")) # True\n",
    "print(check_web_address(\"web-address.com/homepage\")) # False\n",
    "print(check_web_address(\"My_Favorite-Blog.US\")) # True"
   ]
  },
  {
   "cell_type": "markdown",
   "metadata": {},
   "source": [
    "2. La función check_time comprueba el formato de hora de un reloj de 12 horas, como sigue: la hora está entre 1 y 12, sin cero inicial, seguida de dos puntos, luego los minutos entre 00 y 59, luego un espacio opcional, y luego AM o PM, en mayúsculas o minúsculas. Rellene la expresión regular para hacerlo. ¿Cuántos de los conceptos que acabas de aprender puedes utilizar aquí?"
   ]
  },
  {
   "cell_type": "code",
   "execution_count": null,
   "metadata": {},
   "outputs": [],
   "source": [
    "import re\n",
    "def check_time(text):\n",
    "  pattern = r'[1-9][0-2]?:[0-5][0-9] ?[apAP][mM]'\n",
    "  result = re.search(pattern, text)\n",
    "  return result != None\n",
    "\n",
    "print(check_time(\"12:45pm\")) # True\n",
    "print(check_time(\"9:59 AM\")) # True\n",
    "print(check_time(\"6:60am\")) # False\n",
    "print(check_time(\"five o'clock\")) # False"
   ]
  },
  {
   "cell_type": "markdown",
   "metadata": {},
   "source": [
    "3. La función contains_acronym comprueba la presencia en el texto de 2 o más caracteres o dígitos rodeados de paréntesis, con al menos el primer carácter en mayúscula (si es una letra), devolviendo True si se cumple la condición, o False en caso contrario. Por ejemplo, \"La mensajería instantánea (MI) es un conjunto de tecnologías de comunicación utilizadas para la comunicación basada en texto\" debería devolver True ya que (MI) satisface las condiciones de coincidencia\". Rellene la expresión regular en esta función: \n"
   ]
  },
  {
   "cell_type": "code",
   "execution_count": null,
   "metadata": {},
   "outputs": [],
   "source": [
    "import re\n",
    "def contains_acronym(text):\n",
    "  pattern = pattern = r'\\([A-Z0-9][a-zA-Z0-9]+\\)' \n",
    "  result = re.search(pattern, text)\n",
    "  return result != None\n",
    "\n",
    "print(contains_acronym(\"Instant messaging (IM) is a set of communication technologies used for text-based communication\")) # True\n",
    "print(contains_acronym(\"American Standard Code for Information Interchange (ASCII) is a character encoding standard for electronic communication\")) # True\n",
    "print(contains_acronym(\"Please do NOT enter without permission!\")) # False\n",
    "print(contains_acronym(\"PostScript is a fourth-generation programming language (4GL)\")) # True\n",
    "print(contains_acronym(\"Have fun using a self-contained underwater breathing apparatus (Scuba)!\")) # True"
   ]
  },
  {
   "cell_type": "markdown",
   "metadata": {},
   "source": [
    "4. Rellene el código para comprobar si el texto pasado incluye un posible código postal de EE.UU., con el siguiente formato: exactamente 5 dígitos, y a veces, pero no siempre, seguido de un guión con 4 dígitos más. El código postal debe ir precedido de al menos un espacio y no puede estar al principio del texto."
   ]
  },
  {
   "cell_type": "code",
   "execution_count": null,
   "metadata": {},
   "outputs": [],
   "source": [
    "import re\n",
    "def check_zip_code (text):\n",
    "  result = re.search(r\" \\d{5}(-\\d{4})?\", text)\n",
    "  return result != None\n",
    "\n",
    "print(check_zip_code(\"The zip codes for New York are 10001 thru 11104.\")) # True\n",
    "print(check_zip_code(\"90210 is a TV show\")) # False\n",
    "print(check_zip_code(\"Their address is: 123 Main Street, Anytown, AZ 85258-0001.\")) # True\n",
    "print(check_zip_code(\"The Parliament of Canada is at 111 Wellington St, Ottawa, ON K1A0A9.\")) # False"
   ]
  },
  {
   "cell_type": "markdown",
   "metadata": {},
   "source": [
    "# Expresiones Regulares avanzadas"
   ]
  },
  {
   "cell_type": "markdown",
   "metadata": {},
   "source": [
    "1. Estamos trabajando con un archivo CSV, que contiene información sobre los empleados. Cada registro tiene un campo de nombre, seguido de un campo de número de teléfono y un campo de función. El campo de número de teléfono contiene números de teléfono de EE.UU., y necesita ser modificado al formato internacional, con \"+1-\" delante del número de teléfono. Rellene la expresión regular, utilizando grupos, para utilizar la función transform_record para hacerlo."
   ]
  },
  {
   "cell_type": "code",
   "execution_count": null,
   "metadata": {},
   "outputs": [],
   "source": [
    "import re\n",
    "def transform_record(record):\n",
    "  new_record = re.sub(r',([\\d\\-]+),',r',+1-\\1,',record)\n",
    "  return new_record\n",
    "\n",
    "print(transform_record(\"Sabrina Green,802-867-5309,System Administrator\")) \n",
    "# Sabrina Green,+1-802-867-5309,System Administrator\n",
    "\n",
    "print(transform_record(\"Eli Jones,684-3481127,IT specialist\")) \n",
    "# Eli Jones,+1-684-3481127,IT specialist\n",
    "\n",
    "print(transform_record(\"Melody Daniels,846-687-7436,Programmer\")) \n",
    "# Melody Daniels,+1-846-687-7436,Programmer\n",
    "\n",
    "print(transform_record(\"Charlie Rivera,698-746-3357,Web Developer\")) \n",
    "# Charlie Rivera,+1-698-746-3357,Web Developer"
   ]
  },
  {
   "cell_type": "markdown",
   "metadata": {},
   "source": [
    "2. The multi_vowel_words function returns all words with 3 or more consecutive vowels (a, e, i, o, u). Fill in the regular expression to do that."
   ]
  },
  {
   "cell_type": "code",
   "execution_count": null,
   "metadata": {},
   "outputs": [],
   "source": [
    "import re\n",
    "def multi_vowel_words(text):\n",
    "  pattern = r\"\\b\\w*[aeiou]{3,}\\w*\\b\"\n",
    "  result = re.findall(pattern, text)\n",
    "  return result\n",
    "\n",
    "print(multi_vowel_words(\"Life is beautiful\")) \n",
    "# ['beautiful']\n",
    "\n",
    "print(multi_vowel_words(\"Obviously, the queen is courageous and gracious.\")) \n",
    "# ['Obviously', 'queen', 'courageous', 'gracious']\n",
    "\n",
    "print(multi_vowel_words(\"The rambunctious children had to sit quietly and await their delicious dinner.\")) \n",
    "# ['rambunctious', 'quietly', 'delicious']\n",
    "\n",
    "print(multi_vowel_words(\"The order of a data queue is First In First Out (FIFO)\")) \n",
    "# ['queue']\n",
    "\n",
    "print(multi_vowel_words(\"Hello world!\")) \n",
    "# []"
   ]
  },
  {
   "cell_type": "markdown",
   "metadata": {},
   "source": [
    "4. \n",
    "The transform_comments function converts comments in a Python script into those usable by a C compiler. This means looking for text that begins with a hash mark (#) and replacing it with double slashes (//), which is the C single-line comment indicator. For the purpose of this exercise, we'll ignore the possibility of a hash mark embedded inside of a Python command, and assume that it's only used to indicate a comment. We also want to treat repetitive hash marks (##), (###), etc., as a single comment indicator, to be replaced with just (//) and not (#//) or (//#). Fill in the parameters of the substitution method to complete this function: "
   ]
  },
  {
   "cell_type": "code",
   "execution_count": null,
   "metadata": {},
   "outputs": [],
   "source": [
    "import re\n",
    "def transform_comments(line_of_code):\n",
    "  result = re.sub(r'##*',r'//', line_of_code)\n",
    "  return result\n",
    "\n",
    "print(transform_comments(\"### Start of program\")) \n",
    "# Should be \"// Start of program\"\n",
    "print(transform_comments(\"  number = 0   ## Initialize the variable\")) \n",
    "# Should be \"  number = 0   // Initialize the variable\"\n",
    "print(transform_comments(\"  number += 1   # Increment the variable\")) \n",
    "# Should be \"  number += 1   // Increment the variable\"\n",
    "print(transform_comments(\"  return(number)\")) \n",
    "# Should be \"  return(number)\""
   ]
  },
  {
   "cell_type": "markdown",
   "metadata": {},
   "source": [
    "5. The convert_phone_number function checks for a U.S. phone number format: XXX-XXX-XXXX (3 digits followed by a dash, 3 more digits followed by a dash, and 4 digits), and converts it to a more formal format that looks like this: (XXX) XXX-XXXX. Fill in the regular expression to complete this function."
   ]
  },
  {
   "cell_type": "code",
   "execution_count": null,
   "metadata": {},
   "outputs": [],
   "source": [
    "import re\n",
    "def convert_phone_number(phone):\n",
    "  result = re.sub(r'(\\b\\d{3})-(\\d{3}-\\d{4})\\b',r'(\\1) \\2', phone)\n",
    "  return result\n",
    "\n",
    "print(convert_phone_number(\"My number is 212-345-9999.\")) # My number is (212) 345-9999.\n",
    "print(convert_phone_number(\"Please call 888-555-1234\")) # Please call (888) 555-1234\n",
    "print(convert_phone_number(\"123-123-12345\")) # 123-123-12345\n",
    "print(convert_phone_number(\"Phone number of Buckingham Palace is +44 303 123 7300\")) # Phone number of Buckingham Palace is +44 303 123 7300"
   ]
  }
 ],
 "metadata": {
  "kernelspec": {
   "display_name": "Python 3",
   "language": "python",
   "name": "python3"
  },
  "language_info": {
   "codemirror_mode": {
    "name": "ipython",
    "version": 3
   },
   "file_extension": ".py",
   "mimetype": "text/x-python",
   "name": "python",
   "nbconvert_exporter": "python",
   "pygments_lexer": "ipython3",
   "version": "3.8.3"
  }
 },
 "nbformat": 4,
 "nbformat_minor": 4
}
