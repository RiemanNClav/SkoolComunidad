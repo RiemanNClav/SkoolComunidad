{
 "cells": [
  {
   "cell_type": "markdown",
   "id": "2232ae5b",
   "metadata": {},
   "source": [
    "Uso de assert para pruebas rápidas\n",
    "\n",
    "Introducción a unittest: estructura y casos de prueba\n",
    "\n",
    "Crear y ejecutar pruebas con pytest (más expresivo y moderno)\n",
    "\n",
    "Pruebas a funciones con valores límite y edge cases\n",
    "\n",
    "Cobertura de pruebas (coverage.py) y buenas prácticas de testeo\n"
   ]
  }
 ],
 "metadata": {
  "language_info": {
   "name": "python"
  }
 },
 "nbformat": 4,
 "nbformat_minor": 5
}
