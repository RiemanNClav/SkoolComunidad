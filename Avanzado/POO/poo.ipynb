{
 "cells": [
  {
   "cell_type": "markdown",
   "id": "4845b9dc",
   "metadata": {},
   "source": [
    "Clases, objetos, __init__, y el uso de self\n",
    "\n",
    "Encapsulamiento: atributos públicos, privados y protegidos (_, __)\n",
    "\n",
    "Herencia y super()\n",
    "\n",
    "Polimorfismo y métodos sobrescritos\n",
    "\n",
    "Métodos especiales: __str__, __repr__, __len__, __eq__, etc.\n"
   ]
  }
 ],
 "metadata": {
  "language_info": {
   "name": "python"
  }
 },
 "nbformat": 4,
 "nbformat_minor": 5
}
