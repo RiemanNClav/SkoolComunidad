{
 "cells": [
  {
   "cell_type": "markdown",
   "id": "560a93ce",
   "metadata": {},
   "source": [
    "\n",
    "Uso de print() vs logging para depuración\n",
    "\n",
    "Debugging en VSCode / Jupyter: breakpoints, inspección de variables\n",
    "\n",
    "Uso del módulo pdb (Python Debugger) paso a paso\n",
    "\n",
    "Análisis de trazas de errores (traceback, sys.exc_info)\n",
    "\n",
    "Identificación de cuellos de botella con time, timeit, cProfile"
   ]
  }
 ],
 "metadata": {
  "language_info": {
   "name": "python"
  }
 },
 "nbformat": 4,
 "nbformat_minor": 5
}
